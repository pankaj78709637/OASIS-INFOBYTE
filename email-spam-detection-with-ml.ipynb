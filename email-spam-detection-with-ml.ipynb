{
 "cells": [
  {
   "cell_type": "markdown",
   "id": "6c3cb9f9",
   "metadata": {},
   "source": [
    "# PANKAJ KUMAR"
   ]
  },
  {
   "cell_type": "markdown",
   "id": "8080e1b1",
   "metadata": {
    "papermill": {
     "duration": 0.01295,
     "end_time": "2023-09-06T07:40:15.633882",
     "exception": false,
     "start_time": "2023-09-06T07:40:15.620932",
     "status": "completed"
    },
    "tags": []
   },
   "source": [
    "# **Import Libraries**"
   ]
  },
  {
   "cell_type": "code",
   "execution_count": 1,
   "id": "7a4ffc52",
   "metadata": {
    "execution": {
     "iopub.execute_input": "2023-09-06T07:40:15.661061Z",
     "iopub.status.busy": "2023-09-06T07:40:15.660675Z",
     "iopub.status.idle": "2023-09-06T07:40:18.447032Z",
     "shell.execute_reply": "2023-09-06T07:40:18.445638Z"
    },
    "papermill": {
     "duration": 2.803264,
     "end_time": "2023-09-06T07:40:18.449918",
     "exception": false,
     "start_time": "2023-09-06T07:40:15.646654",
     "status": "completed"
    },
    "tags": []
   },
   "outputs": [],
   "source": [
    "import numpy as np\n",
    "import pandas as pd\n",
    "import matplotlib.pyplot as plt\n",
    "import seaborn as sns\n",
    "from sklearn.model_selection import train_test_split\n",
    "from sklearn.feature_extraction.text import TfidfVectorizer\n",
    "from sklearn.linear_model import LogisticRegression  \n",
    "from sklearn.metrics import accuracy_score , confusion_matrix\n",
    "from sklearn.metrics import classification_report"
   ]
  },
  {
   "cell_type": "code",
   "execution_count": 2,
   "id": "435c386c",
   "metadata": {
    "execution": {
     "iopub.execute_input": "2023-09-06T07:40:18.477773Z",
     "iopub.status.busy": "2023-09-06T07:40:18.476976Z",
     "iopub.status.idle": "2023-09-06T07:40:19.063577Z",
     "shell.execute_reply": "2023-09-06T07:40:19.062185Z"
    },
    "papermill": {
     "duration": 0.603882,
     "end_time": "2023-09-06T07:40:19.066688",
     "exception": false,
     "start_time": "2023-09-06T07:40:18.462806",
     "status": "completed"
    },
    "tags": []
   },
   "outputs": [],
   "source": [
    "import nltk\n",
    "from nltk.corpus import stopwords\n",
    "from collections import Counter"
   ]
  },
  {
   "cell_type": "markdown",
   "id": "31568023",
   "metadata": {
    "papermill": {
     "duration": 0.012259,
     "end_time": "2023-09-06T07:40:19.091761",
     "exception": false,
     "start_time": "2023-09-06T07:40:19.079502",
     "status": "completed"
    },
    "tags": []
   },
   "source": [
    "# **Load the dataset**"
   ]
  },
  {
   "cell_type": "code",
   "execution_count": 3,
   "id": "79551da3",
   "metadata": {
    "execution": {
     "iopub.execute_input": "2023-09-06T07:40:19.119017Z",
     "iopub.status.busy": "2023-09-06T07:40:19.118585Z",
     "iopub.status.idle": "2023-09-06T07:40:19.188633Z",
     "shell.execute_reply": "2023-09-06T07:40:19.187270Z"
    },
    "papermill": {
     "duration": 0.086566,
     "end_time": "2023-09-06T07:40:19.191175",
     "exception": false,
     "start_time": "2023-09-06T07:40:19.104609",
     "status": "completed"
    },
    "tags": []
   },
   "outputs": [
    {
     "data": {
      "text/html": [
       "<div>\n",
       "<style scoped>\n",
       "    .dataframe tbody tr th:only-of-type {\n",
       "        vertical-align: middle;\n",
       "    }\n",
       "\n",
       "    .dataframe tbody tr th {\n",
       "        vertical-align: top;\n",
       "    }\n",
       "\n",
       "    .dataframe thead th {\n",
       "        text-align: right;\n",
       "    }\n",
       "</style>\n",
       "<table border=\"1\" class=\"dataframe\">\n",
       "  <thead>\n",
       "    <tr style=\"text-align: right;\">\n",
       "      <th></th>\n",
       "      <th>v1</th>\n",
       "      <th>v2</th>\n",
       "      <th>Unnamed: 2</th>\n",
       "      <th>Unnamed: 3</th>\n",
       "      <th>Unnamed: 4</th>\n",
       "    </tr>\n",
       "  </thead>\n",
       "  <tbody>\n",
       "    <tr>\n",
       "      <th>0</th>\n",
       "      <td>ham</td>\n",
       "      <td>Go until jurong point, crazy.. Available only ...</td>\n",
       "      <td>NaN</td>\n",
       "      <td>NaN</td>\n",
       "      <td>NaN</td>\n",
       "    </tr>\n",
       "    <tr>\n",
       "      <th>1</th>\n",
       "      <td>ham</td>\n",
       "      <td>Ok lar... Joking wif u oni...</td>\n",
       "      <td>NaN</td>\n",
       "      <td>NaN</td>\n",
       "      <td>NaN</td>\n",
       "    </tr>\n",
       "    <tr>\n",
       "      <th>2</th>\n",
       "      <td>spam</td>\n",
       "      <td>Free entry in 2 a wkly comp to win FA Cup fina...</td>\n",
       "      <td>NaN</td>\n",
       "      <td>NaN</td>\n",
       "      <td>NaN</td>\n",
       "    </tr>\n",
       "    <tr>\n",
       "      <th>3</th>\n",
       "      <td>ham</td>\n",
       "      <td>U dun say so early hor... U c already then say...</td>\n",
       "      <td>NaN</td>\n",
       "      <td>NaN</td>\n",
       "      <td>NaN</td>\n",
       "    </tr>\n",
       "    <tr>\n",
       "      <th>4</th>\n",
       "      <td>ham</td>\n",
       "      <td>Nah I don't think he goes to usf, he lives aro...</td>\n",
       "      <td>NaN</td>\n",
       "      <td>NaN</td>\n",
       "      <td>NaN</td>\n",
       "    </tr>\n",
       "  </tbody>\n",
       "</table>\n",
       "</div>"
      ],
      "text/plain": [
       "     v1                                                 v2 Unnamed: 2  \\\n",
       "0   ham  Go until jurong point, crazy.. Available only ...        NaN   \n",
       "1   ham                      Ok lar... Joking wif u oni...        NaN   \n",
       "2  spam  Free entry in 2 a wkly comp to win FA Cup fina...        NaN   \n",
       "3   ham  U dun say so early hor... U c already then say...        NaN   \n",
       "4   ham  Nah I don't think he goes to usf, he lives aro...        NaN   \n",
       "\n",
       "  Unnamed: 3 Unnamed: 4  \n",
       "0        NaN        NaN  \n",
       "1        NaN        NaN  \n",
       "2        NaN        NaN  \n",
       "3        NaN        NaN  \n",
       "4        NaN        NaN  "
      ]
     },
     "execution_count": 3,
     "metadata": {},
     "output_type": "execute_result"
    }
   ],
   "source": [
    "\n",
    "# Load the dataset\n",
    "df = pd.read_csv(\"C:/Users/pankaj kumar/Downloads/spam.csv\", encoding=\"ISO-8859-1\")\n",
    "\n",
    "# Display the first few rows of the dataset\n",
    "df.head()\n"
   ]
  },
  {
   "cell_type": "markdown",
   "id": "e7b4a098",
   "metadata": {
    "papermill": {
     "duration": 0.013476,
     "end_time": "2023-09-06T07:40:19.217801",
     "exception": false,
     "start_time": "2023-09-06T07:40:19.204325",
     "status": "completed"
    },
    "tags": []
   },
   "source": [
    "# **Exploring the Dataset**"
   ]
  },
  {
   "cell_type": "code",
   "execution_count": 4,
   "id": "8992d66b",
   "metadata": {
    "execution": {
     "iopub.execute_input": "2023-09-06T07:40:19.247569Z",
     "iopub.status.busy": "2023-09-06T07:40:19.247154Z",
     "iopub.status.idle": "2023-09-06T07:40:19.261086Z",
     "shell.execute_reply": "2023-09-06T07:40:19.260014Z"
    },
    "papermill": {
     "duration": 0.031566,
     "end_time": "2023-09-06T07:40:19.263601",
     "exception": false,
     "start_time": "2023-09-06T07:40:19.232035",
     "status": "completed"
    },
    "tags": []
   },
   "outputs": [],
   "source": [
    "# Drop unnecessary columns from the DataFrame\n",
    "column_to_remove = ['Unnamed: 2','Unnamed: 3','Unnamed: 4']\n",
    "df = df.drop(column_to_remove, axis=1)"
   ]
  },
  {
   "cell_type": "code",
   "execution_count": 5,
   "id": "70c6fb85",
   "metadata": {
    "execution": {
     "iopub.execute_input": "2023-09-06T07:40:19.292226Z",
     "iopub.status.busy": "2023-09-06T07:40:19.291017Z",
     "iopub.status.idle": "2023-09-06T07:40:19.306881Z",
     "shell.execute_reply": "2023-09-06T07:40:19.305623Z"
    },
    "papermill": {
     "duration": 0.032867,
     "end_time": "2023-09-06T07:40:19.309476",
     "exception": false,
     "start_time": "2023-09-06T07:40:19.276609",
     "status": "completed"
    },
    "tags": []
   },
   "outputs": [
    {
     "data": {
      "text/html": [
       "<div>\n",
       "<style scoped>\n",
       "    .dataframe tbody tr th:only-of-type {\n",
       "        vertical-align: middle;\n",
       "    }\n",
       "\n",
       "    .dataframe tbody tr th {\n",
       "        vertical-align: top;\n",
       "    }\n",
       "\n",
       "    .dataframe thead th {\n",
       "        text-align: right;\n",
       "    }\n",
       "</style>\n",
       "<table border=\"1\" class=\"dataframe\">\n",
       "  <thead>\n",
       "    <tr style=\"text-align: right;\">\n",
       "      <th></th>\n",
       "      <th>v1</th>\n",
       "      <th>v2</th>\n",
       "    </tr>\n",
       "  </thead>\n",
       "  <tbody>\n",
       "    <tr>\n",
       "      <th>0</th>\n",
       "      <td>ham</td>\n",
       "      <td>Go until jurong point, crazy.. Available only ...</td>\n",
       "    </tr>\n",
       "    <tr>\n",
       "      <th>1</th>\n",
       "      <td>ham</td>\n",
       "      <td>Ok lar... Joking wif u oni...</td>\n",
       "    </tr>\n",
       "    <tr>\n",
       "      <th>2</th>\n",
       "      <td>spam</td>\n",
       "      <td>Free entry in 2 a wkly comp to win FA Cup fina...</td>\n",
       "    </tr>\n",
       "    <tr>\n",
       "      <th>3</th>\n",
       "      <td>ham</td>\n",
       "      <td>U dun say so early hor... U c already then say...</td>\n",
       "    </tr>\n",
       "    <tr>\n",
       "      <th>4</th>\n",
       "      <td>ham</td>\n",
       "      <td>Nah I don't think he goes to usf, he lives aro...</td>\n",
       "    </tr>\n",
       "    <tr>\n",
       "      <th>...</th>\n",
       "      <td>...</td>\n",
       "      <td>...</td>\n",
       "    </tr>\n",
       "    <tr>\n",
       "      <th>5567</th>\n",
       "      <td>spam</td>\n",
       "      <td>This is the 2nd time we have tried 2 contact u...</td>\n",
       "    </tr>\n",
       "    <tr>\n",
       "      <th>5568</th>\n",
       "      <td>ham</td>\n",
       "      <td>Will Ì_ b going to esplanade fr home?</td>\n",
       "    </tr>\n",
       "    <tr>\n",
       "      <th>5569</th>\n",
       "      <td>ham</td>\n",
       "      <td>Pity, * was in mood for that. So...any other s...</td>\n",
       "    </tr>\n",
       "    <tr>\n",
       "      <th>5570</th>\n",
       "      <td>ham</td>\n",
       "      <td>The guy did some bitching but I acted like i'd...</td>\n",
       "    </tr>\n",
       "    <tr>\n",
       "      <th>5571</th>\n",
       "      <td>ham</td>\n",
       "      <td>Rofl. Its true to its name</td>\n",
       "    </tr>\n",
       "  </tbody>\n",
       "</table>\n",
       "<p>5572 rows × 2 columns</p>\n",
       "</div>"
      ],
      "text/plain": [
       "        v1                                                 v2\n",
       "0      ham  Go until jurong point, crazy.. Available only ...\n",
       "1      ham                      Ok lar... Joking wif u oni...\n",
       "2     spam  Free entry in 2 a wkly comp to win FA Cup fina...\n",
       "3      ham  U dun say so early hor... U c already then say...\n",
       "4      ham  Nah I don't think he goes to usf, he lives aro...\n",
       "...    ...                                                ...\n",
       "5567  spam  This is the 2nd time we have tried 2 contact u...\n",
       "5568   ham              Will Ì_ b going to esplanade fr home?\n",
       "5569   ham  Pity, * was in mood for that. So...any other s...\n",
       "5570   ham  The guy did some bitching but I acted like i'd...\n",
       "5571   ham                         Rofl. Its true to its name\n",
       "\n",
       "[5572 rows x 2 columns]"
      ]
     },
     "execution_count": 5,
     "metadata": {},
     "output_type": "execute_result"
    }
   ],
   "source": [
    "df"
   ]
  },
  {
   "cell_type": "code",
   "execution_count": 6,
   "id": "5c45e3f9",
   "metadata": {
    "execution": {
     "iopub.execute_input": "2023-09-06T07:40:19.338666Z",
     "iopub.status.busy": "2023-09-06T07:40:19.338013Z",
     "iopub.status.idle": "2023-09-06T07:40:19.344011Z",
     "shell.execute_reply": "2023-09-06T07:40:19.342879Z"
    },
    "papermill": {
     "duration": 0.023501,
     "end_time": "2023-09-06T07:40:19.346406",
     "exception": false,
     "start_time": "2023-09-06T07:40:19.322905",
     "status": "completed"
    },
    "tags": []
   },
   "outputs": [
    {
     "data": {
      "text/plain": [
       "(5572, 2)"
      ]
     },
     "execution_count": 6,
     "metadata": {},
     "output_type": "execute_result"
    }
   ],
   "source": [
    "df.shape"
   ]
  },
  {
   "cell_type": "code",
   "execution_count": 7,
   "id": "a6b1280f",
   "metadata": {
    "execution": {
     "iopub.execute_input": "2023-09-06T07:40:19.375707Z",
     "iopub.status.busy": "2023-09-06T07:40:19.375240Z",
     "iopub.status.idle": "2023-09-06T07:40:19.399987Z",
     "shell.execute_reply": "2023-09-06T07:40:19.398499Z"
    },
    "papermill": {
     "duration": 0.042467,
     "end_time": "2023-09-06T07:40:19.402634",
     "exception": false,
     "start_time": "2023-09-06T07:40:19.360167",
     "status": "completed"
    },
    "tags": []
   },
   "outputs": [
    {
     "name": "stdout",
     "output_type": "stream",
     "text": [
      "<class 'pandas.core.frame.DataFrame'>\n",
      "RangeIndex: 5572 entries, 0 to 5571\n",
      "Data columns (total 2 columns):\n",
      " #   Column  Non-Null Count  Dtype \n",
      "---  ------  --------------  ----- \n",
      " 0   v1      5572 non-null   object\n",
      " 1   v2      5572 non-null   object\n",
      "dtypes: object(2)\n",
      "memory usage: 87.2+ KB\n"
     ]
    }
   ],
   "source": [
    "df.info()"
   ]
  },
  {
   "cell_type": "code",
   "execution_count": 8,
   "id": "4c505b0f",
   "metadata": {
    "execution": {
     "iopub.execute_input": "2023-09-06T07:40:19.432113Z",
     "iopub.status.busy": "2023-09-06T07:40:19.431725Z",
     "iopub.status.idle": "2023-09-06T07:40:19.453259Z",
     "shell.execute_reply": "2023-09-06T07:40:19.452060Z"
    },
    "papermill": {
     "duration": 0.038793,
     "end_time": "2023-09-06T07:40:19.455655",
     "exception": false,
     "start_time": "2023-09-06T07:40:19.416862",
     "status": "completed"
    },
    "tags": []
   },
   "outputs": [
    {
     "data": {
      "text/html": [
       "<div>\n",
       "<style scoped>\n",
       "    .dataframe tbody tr th:only-of-type {\n",
       "        vertical-align: middle;\n",
       "    }\n",
       "\n",
       "    .dataframe tbody tr th {\n",
       "        vertical-align: top;\n",
       "    }\n",
       "\n",
       "    .dataframe thead th {\n",
       "        text-align: right;\n",
       "    }\n",
       "</style>\n",
       "<table border=\"1\" class=\"dataframe\">\n",
       "  <thead>\n",
       "    <tr style=\"text-align: right;\">\n",
       "      <th></th>\n",
       "      <th>v1</th>\n",
       "      <th>v2</th>\n",
       "    </tr>\n",
       "  </thead>\n",
       "  <tbody>\n",
       "    <tr>\n",
       "      <th>count</th>\n",
       "      <td>5572</td>\n",
       "      <td>5572</td>\n",
       "    </tr>\n",
       "    <tr>\n",
       "      <th>unique</th>\n",
       "      <td>2</td>\n",
       "      <td>5169</td>\n",
       "    </tr>\n",
       "    <tr>\n",
       "      <th>top</th>\n",
       "      <td>ham</td>\n",
       "      <td>Sorry, I'll call later</td>\n",
       "    </tr>\n",
       "    <tr>\n",
       "      <th>freq</th>\n",
       "      <td>4825</td>\n",
       "      <td>30</td>\n",
       "    </tr>\n",
       "  </tbody>\n",
       "</table>\n",
       "</div>"
      ],
      "text/plain": [
       "          v1                      v2\n",
       "count   5572                    5572\n",
       "unique     2                    5169\n",
       "top      ham  Sorry, I'll call later\n",
       "freq    4825                      30"
      ]
     },
     "execution_count": 8,
     "metadata": {},
     "output_type": "execute_result"
    }
   ],
   "source": [
    "df.describe()"
   ]
  },
  {
   "cell_type": "code",
   "execution_count": 9,
   "id": "16cdace5",
   "metadata": {
    "execution": {
     "iopub.execute_input": "2023-09-06T07:40:19.485925Z",
     "iopub.status.busy": "2023-09-06T07:40:19.485431Z",
     "iopub.status.idle": "2023-09-06T07:40:19.503951Z",
     "shell.execute_reply": "2023-09-06T07:40:19.502817Z"
    },
    "papermill": {
     "duration": 0.036328,
     "end_time": "2023-09-06T07:40:19.506426",
     "exception": false,
     "start_time": "2023-09-06T07:40:19.470098",
     "status": "completed"
    },
    "tags": []
   },
   "outputs": [
    {
     "data": {
      "text/html": [
       "<div>\n",
       "<style scoped>\n",
       "    .dataframe tbody tr th:only-of-type {\n",
       "        vertical-align: middle;\n",
       "    }\n",
       "\n",
       "    .dataframe tbody tr th {\n",
       "        vertical-align: top;\n",
       "    }\n",
       "\n",
       "    .dataframe thead th {\n",
       "        text-align: right;\n",
       "    }\n",
       "</style>\n",
       "<table border=\"1\" class=\"dataframe\">\n",
       "  <thead>\n",
       "    <tr style=\"text-align: right;\">\n",
       "      <th></th>\n",
       "      <th>v1</th>\n",
       "      <th>v2</th>\n",
       "    </tr>\n",
       "  </thead>\n",
       "  <tbody>\n",
       "    <tr>\n",
       "      <th>102</th>\n",
       "      <td>ham</td>\n",
       "      <td>As per your request 'Melle Melle (Oru Minnamin...</td>\n",
       "    </tr>\n",
       "    <tr>\n",
       "      <th>153</th>\n",
       "      <td>ham</td>\n",
       "      <td>As per your request 'Melle Melle (Oru Minnamin...</td>\n",
       "    </tr>\n",
       "    <tr>\n",
       "      <th>206</th>\n",
       "      <td>ham</td>\n",
       "      <td>As I entered my cabin my PA said, '' Happy B'd...</td>\n",
       "    </tr>\n",
       "    <tr>\n",
       "      <th>222</th>\n",
       "      <td>ham</td>\n",
       "      <td>Sorry, I'll call later</td>\n",
       "    </tr>\n",
       "    <tr>\n",
       "      <th>325</th>\n",
       "      <td>ham</td>\n",
       "      <td>No calls..messages..missed calls</td>\n",
       "    </tr>\n",
       "    <tr>\n",
       "      <th>...</th>\n",
       "      <td>...</td>\n",
       "      <td>...</td>\n",
       "    </tr>\n",
       "    <tr>\n",
       "      <th>5524</th>\n",
       "      <td>spam</td>\n",
       "      <td>You are awarded a SiPix Digital Camera! call 0...</td>\n",
       "    </tr>\n",
       "    <tr>\n",
       "      <th>5535</th>\n",
       "      <td>ham</td>\n",
       "      <td>I know you are thinkin malaria. But relax, chi...</td>\n",
       "    </tr>\n",
       "    <tr>\n",
       "      <th>5539</th>\n",
       "      <td>ham</td>\n",
       "      <td>Just sleeping..and surfing</td>\n",
       "    </tr>\n",
       "    <tr>\n",
       "      <th>5553</th>\n",
       "      <td>ham</td>\n",
       "      <td>Hahaha..use your brain dear</td>\n",
       "    </tr>\n",
       "    <tr>\n",
       "      <th>5558</th>\n",
       "      <td>ham</td>\n",
       "      <td>Sorry, I'll call later</td>\n",
       "    </tr>\n",
       "  </tbody>\n",
       "</table>\n",
       "<p>403 rows × 2 columns</p>\n",
       "</div>"
      ],
      "text/plain": [
       "        v1                                                 v2\n",
       "102    ham  As per your request 'Melle Melle (Oru Minnamin...\n",
       "153    ham  As per your request 'Melle Melle (Oru Minnamin...\n",
       "206    ham  As I entered my cabin my PA said, '' Happy B'd...\n",
       "222    ham                             Sorry, I'll call later\n",
       "325    ham                   No calls..messages..missed calls\n",
       "...    ...                                                ...\n",
       "5524  spam  You are awarded a SiPix Digital Camera! call 0...\n",
       "5535   ham  I know you are thinkin malaria. But relax, chi...\n",
       "5539   ham                         Just sleeping..and surfing\n",
       "5553   ham                        Hahaha..use your brain dear\n",
       "5558   ham                             Sorry, I'll call later\n",
       "\n",
       "[403 rows x 2 columns]"
      ]
     },
     "execution_count": 9,
     "metadata": {},
     "output_type": "execute_result"
    }
   ],
   "source": [
    "df[df.duplicated()]"
   ]
  },
  {
   "cell_type": "code",
   "execution_count": 10,
   "id": "f7b7e174",
   "metadata": {
    "execution": {
     "iopub.execute_input": "2023-09-06T07:40:19.537094Z",
     "iopub.status.busy": "2023-09-06T07:40:19.536670Z",
     "iopub.status.idle": "2023-09-06T07:40:19.554479Z",
     "shell.execute_reply": "2023-09-06T07:40:19.553186Z"
    },
    "papermill": {
     "duration": 0.036376,
     "end_time": "2023-09-06T07:40:19.557046",
     "exception": false,
     "start_time": "2023-09-06T07:40:19.520670",
     "status": "completed"
    },
    "tags": []
   },
   "outputs": [
    {
     "data": {
      "text/html": [
       "<div>\n",
       "<style scoped>\n",
       "    .dataframe tbody tr th:only-of-type {\n",
       "        vertical-align: middle;\n",
       "    }\n",
       "\n",
       "    .dataframe tbody tr th {\n",
       "        vertical-align: top;\n",
       "    }\n",
       "\n",
       "    .dataframe thead th {\n",
       "        text-align: right;\n",
       "    }\n",
       "</style>\n",
       "<table border=\"1\" class=\"dataframe\">\n",
       "  <thead>\n",
       "    <tr style=\"text-align: right;\">\n",
       "      <th></th>\n",
       "      <th>v1</th>\n",
       "      <th>v2</th>\n",
       "    </tr>\n",
       "  </thead>\n",
       "  <tbody>\n",
       "    <tr>\n",
       "      <th>0</th>\n",
       "      <td>ham</td>\n",
       "      <td>Go until jurong point, crazy.. Available only ...</td>\n",
       "    </tr>\n",
       "    <tr>\n",
       "      <th>1</th>\n",
       "      <td>ham</td>\n",
       "      <td>Ok lar... Joking wif u oni...</td>\n",
       "    </tr>\n",
       "    <tr>\n",
       "      <th>2</th>\n",
       "      <td>spam</td>\n",
       "      <td>Free entry in 2 a wkly comp to win FA Cup fina...</td>\n",
       "    </tr>\n",
       "    <tr>\n",
       "      <th>3</th>\n",
       "      <td>ham</td>\n",
       "      <td>U dun say so early hor... U c already then say...</td>\n",
       "    </tr>\n",
       "    <tr>\n",
       "      <th>4</th>\n",
       "      <td>ham</td>\n",
       "      <td>Nah I don't think he goes to usf, he lives aro...</td>\n",
       "    </tr>\n",
       "    <tr>\n",
       "      <th>...</th>\n",
       "      <td>...</td>\n",
       "      <td>...</td>\n",
       "    </tr>\n",
       "    <tr>\n",
       "      <th>5567</th>\n",
       "      <td>spam</td>\n",
       "      <td>This is the 2nd time we have tried 2 contact u...</td>\n",
       "    </tr>\n",
       "    <tr>\n",
       "      <th>5568</th>\n",
       "      <td>ham</td>\n",
       "      <td>Will Ì_ b going to esplanade fr home?</td>\n",
       "    </tr>\n",
       "    <tr>\n",
       "      <th>5569</th>\n",
       "      <td>ham</td>\n",
       "      <td>Pity, * was in mood for that. So...any other s...</td>\n",
       "    </tr>\n",
       "    <tr>\n",
       "      <th>5570</th>\n",
       "      <td>ham</td>\n",
       "      <td>The guy did some bitching but I acted like i'd...</td>\n",
       "    </tr>\n",
       "    <tr>\n",
       "      <th>5571</th>\n",
       "      <td>ham</td>\n",
       "      <td>Rofl. Its true to its name</td>\n",
       "    </tr>\n",
       "  </tbody>\n",
       "</table>\n",
       "<p>5169 rows × 2 columns</p>\n",
       "</div>"
      ],
      "text/plain": [
       "        v1                                                 v2\n",
       "0      ham  Go until jurong point, crazy.. Available only ...\n",
       "1      ham                      Ok lar... Joking wif u oni...\n",
       "2     spam  Free entry in 2 a wkly comp to win FA Cup fina...\n",
       "3      ham  U dun say so early hor... U c already then say...\n",
       "4      ham  Nah I don't think he goes to usf, he lives aro...\n",
       "...    ...                                                ...\n",
       "5567  spam  This is the 2nd time we have tried 2 contact u...\n",
       "5568   ham              Will Ì_ b going to esplanade fr home?\n",
       "5569   ham  Pity, * was in mood for that. So...any other s...\n",
       "5570   ham  The guy did some bitching but I acted like i'd...\n",
       "5571   ham                         Rofl. Its true to its name\n",
       "\n",
       "[5169 rows x 2 columns]"
      ]
     },
     "execution_count": 10,
     "metadata": {},
     "output_type": "execute_result"
    }
   ],
   "source": [
    "df = df.drop_duplicates()\n",
    "df"
   ]
  },
  {
   "cell_type": "code",
   "execution_count": 11,
   "id": "03f68fe8",
   "metadata": {
    "execution": {
     "iopub.execute_input": "2023-09-06T07:40:19.588375Z",
     "iopub.status.busy": "2023-09-06T07:40:19.587943Z",
     "iopub.status.idle": "2023-09-06T07:40:19.597686Z",
     "shell.execute_reply": "2023-09-06T07:40:19.596450Z"
    },
    "papermill": {
     "duration": 0.028009,
     "end_time": "2023-09-06T07:40:19.600070",
     "exception": false,
     "start_time": "2023-09-06T07:40:19.572061",
     "status": "completed"
    },
    "tags": []
   },
   "outputs": [
    {
     "data": {
      "text/plain": [
       "ham     4516\n",
       "spam     653\n",
       "Name: v1, dtype: int64"
      ]
     },
     "execution_count": 11,
     "metadata": {},
     "output_type": "execute_result"
    }
   ],
   "source": [
    "df[\"v1\"].value_counts()"
   ]
  },
  {
   "cell_type": "markdown",
   "id": "2f4b1da8",
   "metadata": {
    "papermill": {
     "duration": 0.014143,
     "end_time": "2023-09-06T07:40:19.628908",
     "exception": false,
     "start_time": "2023-09-06T07:40:19.614765",
     "status": "completed"
    },
    "tags": []
   },
   "source": [
    "# **Data Visualisation**"
   ]
  },
  {
   "cell_type": "code",
   "execution_count": 12,
   "id": "7f07ddfc",
   "metadata": {
    "execution": {
     "iopub.execute_input": "2023-09-06T07:40:19.660006Z",
     "iopub.status.busy": "2023-09-06T07:40:19.659622Z",
     "iopub.status.idle": "2023-09-06T07:40:19.942961Z",
     "shell.execute_reply": "2023-09-06T07:40:19.941743Z"
    },
    "papermill": {
     "duration": 0.301837,
     "end_time": "2023-09-06T07:40:19.945473",
     "exception": false,
     "start_time": "2023-09-06T07:40:19.643636",
     "status": "completed"
    },
    "tags": []
   },
   "outputs": [
    {
     "data": {
      "image/png": "[encoded data removed]",
      "text/plain": [
       "<Figure size 640x480 with 1 Axes>"
      ]
     },
     "metadata": {},
     "output_type": "display_data"
    }
   ],
   "source": [
    "sns.countplot(data=df, x='v1')\n",
    "plt.xlabel('v1')\n",
    "plt.ylabel('count')\n",
    "plt.title('Count Plot')\n",
    "plt.show()"
   ]
  },
  {
   "cell_type": "markdown",
   "id": "d65293a2",
   "metadata": {
    "papermill": {
     "duration": 0.014552,
     "end_time": "2023-09-06T07:40:19.975151",
     "exception": false,
     "start_time": "2023-09-06T07:40:19.960599",
     "status": "completed"
    },
    "tags": []
   },
   "source": [
    "# **Data Preprocessing**"
   ]
  },
  {
   "cell_type": "code",
   "execution_count": 13,
   "id": "19a903a9",
   "metadata": {
    "execution": {
     "iopub.execute_input": "2023-09-06T07:40:20.007898Z",
     "iopub.status.busy": "2023-09-06T07:40:20.006658Z",
     "iopub.status.idle": "2023-09-06T07:40:20.025852Z",
     "shell.execute_reply": "2023-09-06T07:40:20.024444Z"
    },
    "papermill": {
     "duration": 0.038095,
     "end_time": "2023-09-06T07:40:20.028137",
     "exception": false,
     "start_time": "2023-09-06T07:40:19.990042",
     "status": "completed"
    },
    "tags": []
   },
   "outputs": [
    {
     "name": "stderr",
     "output_type": "stream",
     "text": [
      "C:\\Users\\pankaj kumar\\AppData\\Local\\Temp\\ipykernel_12592\\521347544.py:3: SettingWithCopyWarning: \n",
      "A value is trying to be set on a copy of a slice from a DataFrame.\n",
      "Try using .loc[row_indexer,col_indexer] = value instead\n",
      "\n",
      "See the caveats in the documentation: https://pandas.pydata.org/pandas-docs/stable/user_guide/indexing.html#returning-a-view-versus-a-copy\n",
      "  df.loc[df[\"v1\"] == \"spam\", \"Category\"] = 0\n"
     ]
    },
    {
     "data": {
      "text/html": [
       "<div>\n",
       "<style scoped>\n",
       "    .dataframe tbody tr th:only-of-type {\n",
       "        vertical-align: middle;\n",
       "    }\n",
       "\n",
       "    .dataframe tbody tr th {\n",
       "        vertical-align: top;\n",
       "    }\n",
       "\n",
       "    .dataframe thead th {\n",
       "        text-align: right;\n",
       "    }\n",
       "</style>\n",
       "<table border=\"1\" class=\"dataframe\">\n",
       "  <thead>\n",
       "    <tr style=\"text-align: right;\">\n",
       "      <th></th>\n",
       "      <th>v1</th>\n",
       "      <th>v2</th>\n",
       "      <th>Category</th>\n",
       "    </tr>\n",
       "  </thead>\n",
       "  <tbody>\n",
       "    <tr>\n",
       "      <th>0</th>\n",
       "      <td>ham</td>\n",
       "      <td>Go until jurong point, crazy.. Available only ...</td>\n",
       "      <td>1.0</td>\n",
       "    </tr>\n",
       "    <tr>\n",
       "      <th>1</th>\n",
       "      <td>ham</td>\n",
       "      <td>Ok lar... Joking wif u oni...</td>\n",
       "      <td>1.0</td>\n",
       "    </tr>\n",
       "    <tr>\n",
       "      <th>2</th>\n",
       "      <td>spam</td>\n",
       "      <td>Free entry in 2 a wkly comp to win FA Cup fina...</td>\n",
       "      <td>0.0</td>\n",
       "    </tr>\n",
       "    <tr>\n",
       "      <th>3</th>\n",
       "      <td>ham</td>\n",
       "      <td>U dun say so early hor... U c already then say...</td>\n",
       "      <td>1.0</td>\n",
       "    </tr>\n",
       "    <tr>\n",
       "      <th>4</th>\n",
       "      <td>ham</td>\n",
       "      <td>Nah I don't think he goes to usf, he lives aro...</td>\n",
       "      <td>1.0</td>\n",
       "    </tr>\n",
       "  </tbody>\n",
       "</table>\n",
       "</div>"
      ],
      "text/plain": [
       "     v1                                                 v2  Category\n",
       "0   ham  Go until jurong point, crazy.. Available only ...       1.0\n",
       "1   ham                      Ok lar... Joking wif u oni...       1.0\n",
       "2  spam  Free entry in 2 a wkly comp to win FA Cup fina...       0.0\n",
       "3   ham  U dun say so early hor... U c already then say...       1.0\n",
       "4   ham  Nah I don't think he goes to usf, he lives aro...       1.0"
      ]
     },
     "execution_count": 13,
     "metadata": {},
     "output_type": "execute_result"
    }
   ],
   "source": [
    "# Convert the \"Category\" column values to numerical representation (0 for \"spam\" and 1 for \"ham\")\n",
    "\n",
    "df.loc[df[\"v1\"] == \"spam\", \"Category\"] = 0\n",
    "df.loc[df[\"v1\"] == \"ham\", \"Category\"] = 1\n",
    "\n",
    "df.head()"
   ]
  },
  {
   "cell_type": "code",
   "execution_count": 14,
   "id": "e332103f",
   "metadata": {
    "execution": {
     "iopub.execute_input": "2023-09-06T07:40:20.060449Z",
     "iopub.status.busy": "2023-09-06T07:40:20.060024Z",
     "iopub.status.idle": "2023-09-06T07:40:20.065933Z",
     "shell.execute_reply": "2023-09-06T07:40:20.064778Z"
    },
    "papermill": {
     "duration": 0.025275,
     "end_time": "2023-09-06T07:40:20.068776",
     "exception": false,
     "start_time": "2023-09-06T07:40:20.043501",
     "status": "completed"
    },
    "tags": []
   },
   "outputs": [],
   "source": [
    "# Separate the feature (v2) and target (category) data\n",
    "X=df['v2']\n",
    "y=df['Category']\n"
   ]
  },
  {
   "cell_type": "code",
   "execution_count": 15,
   "id": "ba7263b6",
   "metadata": {
    "execution": {
     "iopub.execute_input": "2023-09-06T07:40:20.103466Z",
     "iopub.status.busy": "2023-09-06T07:40:20.102307Z",
     "iopub.status.idle": "2023-09-06T07:40:20.110917Z",
     "shell.execute_reply": "2023-09-06T07:40:20.109803Z"
    },
    "papermill": {
     "duration": 0.028327,
     "end_time": "2023-09-06T07:40:20.113344",
     "exception": false,
     "start_time": "2023-09-06T07:40:20.085017",
     "status": "completed"
    },
    "tags": []
   },
   "outputs": [
    {
     "data": {
      "text/plain": [
       "0       Go until jurong point, crazy.. Available only ...\n",
       "1                           Ok lar... Joking wif u oni...\n",
       "2       Free entry in 2 a wkly comp to win FA Cup fina...\n",
       "3       U dun say so early hor... U c already then say...\n",
       "4       Nah I don't think he goes to usf, he lives aro...\n",
       "                              ...                        \n",
       "5567    This is the 2nd time we have tried 2 contact u...\n",
       "5568                Will Ì_ b going to esplanade fr home?\n",
       "5569    Pity, * was in mood for that. So...any other s...\n",
       "5570    The guy did some bitching but I acted like i'd...\n",
       "5571                           Rofl. Its true to its name\n",
       "Name: v2, Length: 5169, dtype: object"
      ]
     },
     "execution_count": 15,
     "metadata": {},
     "output_type": "execute_result"
    }
   ],
   "source": [
    "X"
   ]
  },
  {
   "cell_type": "code",
   "execution_count": 16,
   "id": "251cb4b4",
   "metadata": {
    "execution": {
     "iopub.execute_input": "2023-09-06T07:40:20.148276Z",
     "iopub.status.busy": "2023-09-06T07:40:20.146491Z",
     "iopub.status.idle": "2023-09-06T07:40:20.156943Z",
     "shell.execute_reply": "2023-09-06T07:40:20.155791Z"
    },
    "papermill": {
     "duration": 0.029538,
     "end_time": "2023-09-06T07:40:20.159173",
     "exception": false,
     "start_time": "2023-09-06T07:40:20.129635",
     "status": "completed"
    },
    "tags": []
   },
   "outputs": [
    {
     "data": {
      "text/plain": [
       "0       1.0\n",
       "1       1.0\n",
       "2       0.0\n",
       "3       1.0\n",
       "4       1.0\n",
       "       ... \n",
       "5567    0.0\n",
       "5568    1.0\n",
       "5569    1.0\n",
       "5570    1.0\n",
       "5571    1.0\n",
       "Name: Category, Length: 5169, dtype: float64"
      ]
     },
     "execution_count": 16,
     "metadata": {},
     "output_type": "execute_result"
    }
   ],
   "source": [
    "y"
   ]
  },
  {
   "cell_type": "markdown",
   "id": "cbfb706c",
   "metadata": {
    "papermill": {
     "duration": 0.015112,
     "end_time": "2023-09-06T07:40:20.189830",
     "exception": false,
     "start_time": "2023-09-06T07:40:20.174718",
     "status": "completed"
    },
    "tags": []
   },
   "source": [
    "# **Split Data to Train and Test Data**"
   ]
  },
  {
   "cell_type": "code",
   "execution_count": 17,
   "id": "284528de",
   "metadata": {
    "execution": {
     "iopub.execute_input": "2023-09-06T07:40:20.223822Z",
     "iopub.status.busy": "2023-09-06T07:40:20.222619Z",
     "iopub.status.idle": "2023-09-06T07:40:20.230753Z",
     "shell.execute_reply": "2023-09-06T07:40:20.229566Z"
    },
    "papermill": {
     "duration": 0.028558,
     "end_time": "2023-09-06T07:40:20.233882",
     "exception": false,
     "start_time": "2023-09-06T07:40:20.205324",
     "status": "completed"
    },
    "tags": []
   },
   "outputs": [],
   "source": [
    "X_train,X_test,y_train,y_test = train_test_split(X,y,test_size=0.2,random_state=2)"
   ]
  },
  {
   "cell_type": "markdown",
   "id": "0a077c79",
   "metadata": {
    "papermill": {
     "duration": 0.016642,
     "end_time": "2023-09-06T07:40:20.342479",
     "exception": false,
     "start_time": "2023-09-06T07:40:20.325837",
     "status": "completed"
    },
    "tags": []
   },
   "source": [
    "# **Feature Extraction - TF-IDF**"
   ]
  },
  {
   "cell_type": "code",
   "execution_count": 18,
   "id": "285fd406",
   "metadata": {
    "execution": {
     "iopub.execute_input": "2023-09-06T07:40:20.376878Z",
     "iopub.status.busy": "2023-09-06T07:40:20.376454Z",
     "iopub.status.idle": "2023-09-06T07:40:20.574775Z",
     "shell.execute_reply": "2023-09-06T07:40:20.573419Z"
    },
    "papermill": {
     "duration": 0.218713,
     "end_time": "2023-09-06T07:40:20.577750",
     "exception": false,
     "start_time": "2023-09-06T07:40:20.359037",
     "status": "completed"
    },
    "tags": []
   },
   "outputs": [],
   "source": [
    "#Create a TF-IDF vectorizer to convert text messages into numerical feature\n",
    "feature_extraction = TfidfVectorizer(min_df=1, stop_words='english',lowercase=True)\n",
    "X_train_features = feature_extraction.fit_transform(X_train)\n",
    "X_test_features = feature_extraction.transform(X_test)\n",
    "\n",
    "y_train = y_train.astype(int)\n",
    "y_test = y_test.astype(int)\n"
   ]
  },
  {
   "cell_type": "markdown",
   "id": "a7c24a11",
   "metadata": {
    "papermill": {
     "duration": 0.016099,
     "end_time": "2023-09-06T07:40:20.609855",
     "exception": false,
     "start_time": "2023-09-06T07:40:20.593756",
     "status": "completed"
    },
    "tags": []
   },
   "source": [
    "# **Model Training**"
   ]
  },
  {
   "cell_type": "code",
   "execution_count": 19,
   "id": "350f64f3",
   "metadata": {
    "execution": {
     "iopub.execute_input": "2023-09-06T07:40:20.645715Z",
     "iopub.status.busy": "2023-09-06T07:40:20.644390Z",
     "iopub.status.idle": "2023-09-06T07:40:20.740587Z",
     "shell.execute_reply": "2023-09-06T07:40:20.739110Z"
    },
    "papermill": {
     "duration": 0.11682,
     "end_time": "2023-09-06T07:40:20.743752",
     "exception": false,
     "start_time": "2023-09-06T07:40:20.626932",
     "status": "completed"
    },
    "tags": []
   },
   "outputs": [
    {
     "data": {
      "text/html": [
       "<style>#sk-container-id-1 {color: black;}#sk-container-id-1 pre{padding: 0;}#sk-container-id-1 div.sk-toggleable {background-color: white;}#sk-container-id-1 label.sk-toggleable__label {cursor: pointer;display: block;width: 100%;margin-bottom: 0;padding: 0.3em;box-sizing: border-box;text-align: center;}#sk-container-id-1 label.sk-toggleable__label-arrow:before {content: \"▸\";float: left;margin-right: 0.25em;color: #696969;}#sk-container-id-1 label.sk-toggleable__label-arrow:hover:before {color: black;}#sk-container-id-1 div.sk-estimator:hover label.sk-toggleable__label-arrow:before {color: black;}#sk-container-id-1 div.sk-toggleable__content {max-height: 0;max-width: 0;overflow: hidden;text-align: left;background-color: #f0f8ff;}#sk-container-id-1 div.sk-toggleable__content pre {margin: 0.2em;color: black;border-radius: 0.25em;background-color: #f0f8ff;}#sk-container-id-1 input.sk-toggleable__control:checked~div.sk-toggleable__content {max-height: 200px;max-width: 100%;overflow: auto;}#sk-container-id-1 input.sk-toggleable__control:checked~label.sk-toggleable__label-arrow:before {content: \"▾\";}#sk-container-id-1 div.sk-estimator input.sk-toggleable__control:checked~label.sk-toggleable__label {background-color: #d4ebff;}#sk-container-id-1 div.sk-label input.sk-toggleable__control:checked~label.sk-toggleable__label {background-color: #d4ebff;}#sk-container-id-1 input.sk-hidden--visually {border: 0;clip: rect(1px 1px 1px 1px);clip: rect(1px, 1px, 1px, 1px);height: 1px;margin: -1px;overflow: hidden;padding: 0;position: absolute;width: 1px;}#sk-container-id-1 div.sk-estimator {font-family: monospace;background-color: #f0f8ff;border: 1px dotted black;border-radius: 0.25em;box-sizing: border-box;margin-bottom: 0.5em;}#sk-container-id-1 div.sk-estimator:hover {background-color: #d4ebff;}#sk-container-id-1 div.sk-parallel-item::after {content: \"\";width: 100%;border-bottom: 1px solid gray;flex-grow: 1;}#sk-container-id-1 div.sk-label:hover label.sk-toggleable__label {background-color: #d4ebff;}#sk-container-id-1 div.sk-serial::before {content: \"\";position: absolute;border-left: 1px solid gray;box-sizing: border-box;top: 0;bottom: 0;left: 50%;z-index: 0;}#sk-container-id-1 div.sk-serial {display: flex;flex-direction: column;align-items: center;background-color: white;padding-right: 0.2em;padding-left: 0.2em;position: relative;}#sk-container-id-1 div.sk-item {position: relative;z-index: 1;}#sk-container-id-1 div.sk-parallel {display: flex;align-items: stretch;justify-content: center;background-color: white;position: relative;}#sk-container-id-1 div.sk-item::before, #sk-container-id-1 div.sk-parallel-item::before {content: \"\";position: absolute;border-left: 1px solid gray;box-sizing: border-box;top: 0;bottom: 0;left: 50%;z-index: -1;}#sk-container-id-1 div.sk-parallel-item {display: flex;flex-direction: column;z-index: 1;position: relative;background-color: white;}#sk-container-id-1 div.sk-parallel-item:first-child::after {align-self: flex-end;width: 50%;}#sk-container-id-1 div.sk-parallel-item:last-child::after {align-self: flex-start;width: 50%;}#sk-container-id-1 div.sk-parallel-item:only-child::after {width: 0;}#sk-container-id-1 div.sk-dashed-wrapped {border: 1px dashed gray;margin: 0 0.4em 0.5em 0.4em;box-sizing: border-box;padding-bottom: 0.4em;background-color: white;}#sk-container-id-1 div.sk-label label {font-family: monospace;font-weight: bold;display: inline-block;line-height: 1.2em;}#sk-container-id-1 div.sk-label-container {text-align: center;}#sk-container-id-1 div.sk-container {/* jupyter's `normalize.less` sets `[hidden] { display: none; }` but bootstrap.min.css set `[hidden] { display: none !important; }` so we also need the `!important` here to be able to override the default hidden behavior on the sphinx rendered scikit-learn.org. See: https://github.com/scikit-learn/scikit-learn/issues/21755 */display: inline-block !important;position: relative;}#sk-container-id-1 div.sk-text-repr-fallback {display: none;}</style><div id=\"sk-container-id-1\" class=\"sk-top-container\"><div class=\"sk-text-repr-fallback\"><pre>LogisticRegression()</pre><b>In a Jupyter environment, please rerun this cell to show the HTML representation or trust the notebook. <br />On GitHub, the HTML representation is unable to render, please try loading this page with nbviewer.org.</b></div><div class=\"sk-container\" hidden><div class=\"sk-item\"><div class=\"sk-estimator sk-toggleable\"><input class=\"sk-toggleable__control sk-hidden--visually\" id=\"sk-estimator-id-1\" type=\"checkbox\" checked><label for=\"sk-estimator-id-1\" class=\"sk-toggleable__label sk-toggleable__label-arrow\">LogisticRegression</label><div class=\"sk-toggleable__content\"><pre>LogisticRegression()</pre></div></div></div></div></div>"
      ],
      "text/plain": [
       "LogisticRegression()"
      ]
     },
     "execution_count": 19,
     "metadata": {},
     "output_type": "execute_result"
    }
   ],
   "source": [
    "model = LogisticRegression()\n",
    "model.fit(X_train_features,y_train)"
   ]
  },
  {
   "cell_type": "markdown",
   "id": "bc2fd58f",
   "metadata": {
    "papermill": {
     "duration": 0.015733,
     "end_time": "2023-09-06T07:40:20.778354",
     "exception": false,
     "start_time": "2023-09-06T07:40:20.762621",
     "status": "completed"
    },
    "tags": []
   },
   "source": [
    "# **Model Evaluation**"
   ]
  },
  {
   "cell_type": "code",
   "execution_count": 20,
   "id": "db51c87f",
   "metadata": {
    "execution": {
     "iopub.execute_input": "2023-09-06T07:40:20.813408Z",
     "iopub.status.busy": "2023-09-06T07:40:20.812224Z",
     "iopub.status.idle": "2023-09-06T07:40:20.824237Z",
     "shell.execute_reply": "2023-09-06T07:40:20.822832Z"
    },
    "papermill": {
     "duration": 0.032561,
     "end_time": "2023-09-06T07:40:20.826987",
     "exception": false,
     "start_time": "2023-09-06T07:40:20.794426",
     "status": "completed"
    },
    "tags": []
   },
   "outputs": [
    {
     "name": "stdout",
     "output_type": "stream",
     "text": [
      "Accuracy on training data: 96.20314389359129 %\n",
      "Accuracy on test data: 96.0348162475822 %\n"
     ]
    }
   ],
   "source": [
    "# Model evaluation\n",
    "prediction_on_training_data = model.predict(X_train_features)\n",
    "accuracy_on_training_data = accuracy_score(y_train, prediction_on_training_data)\n",
    "\n",
    "prediction_on_test_data = model.predict(X_test_features)\n",
    "accuracy_on_test_data = accuracy_score(y_test, prediction_on_test_data)\n",
    "\n",
    "# Print accuracy\n",
    "print('Accuracy on training data: {} %'.format(accuracy_on_training_data * 100))\n",
    "print('Accuracy on test data: {} %'.format(accuracy_on_test_data * 100))"
   ]
  },
  {
   "cell_type": "markdown",
   "id": "bf5fe40f",
   "metadata": {
    "papermill": {
     "duration": 0.016266,
     "end_time": "2023-09-06T07:40:20.861063",
     "exception": false,
     "start_time": "2023-09-06T07:40:20.844797",
     "status": "completed"
    },
    "tags": []
   },
   "source": [
    "# **Confusion Matrix Visualization**"
   ]
  },
  {
   "cell_type": "code",
   "execution_count": 21,
   "id": "f4320f4a",
   "metadata": {
    "execution": {
     "iopub.execute_input": "2023-09-06T07:40:20.895741Z",
     "iopub.status.busy": "2023-09-06T07:40:20.895324Z",
     "iopub.status.idle": "2023-09-06T07:40:21.080749Z",
     "shell.execute_reply": "2023-09-06T07:40:21.079585Z"
    },
    "papermill": {
     "duration": 0.206158,
     "end_time": "2023-09-06T07:40:21.083212",
     "exception": false,
     "start_time": "2023-09-06T07:40:20.877054",
     "status": "completed"
    },
    "tags": []
   },
   "outputs": [
    {
     "data": {
      "image/png": "[encoded data removed]",
      "text/plain": [
       "<Figure size 800x600 with 1 Axes>"
      ]
     },
     "metadata": {},
     "output_type": "display_data"
    }
   ],
   "source": [
    "# Confusion Matrix Visualization\n",
    "conf_matrix = confusion_matrix(y_test, prediction_on_test_data)\n",
    "plt.figure(figsize=(8, 6))\n",
    "sns.heatmap(conf_matrix, annot=True, fmt=\"d\", cmap=\"Greens\", cbar=False,\n",
    "            xticklabels=['Spam', 'Ham'], yticklabels=['Spam', 'Ham'])\n",
    "plt.xlabel('Predicted')\n",
    "plt.ylabel('Actual')\n",
    "plt.title('Confusion Matrix')\n",
    "plt.show()\n"
   ]
  },
  {
   "cell_type": "markdown",
   "id": "a7ee8655",
   "metadata": {
    "papermill": {
     "duration": 0.016256,
     "end_time": "2023-09-06T07:40:21.116287",
     "exception": false,
     "start_time": "2023-09-06T07:40:21.100031",
     "status": "completed"
    },
    "tags": []
   },
   "source": [
    "# **Calculating and Displaying Error Metrics**"
   ]
  },
  {
   "cell_type": "code",
   "execution_count": 22,
   "id": "0a7ee266",
   "metadata": {
    "execution": {
     "iopub.execute_input": "2023-09-06T07:40:21.151641Z",
     "iopub.status.busy": "2023-09-06T07:40:21.150972Z",
     "iopub.status.idle": "2023-09-06T07:40:21.166147Z",
     "shell.execute_reply": "2023-09-06T07:40:21.164995Z"
    },
    "papermill": {
     "duration": 0.035933,
     "end_time": "2023-09-06T07:40:21.168754",
     "exception": false,
     "start_time": "2023-09-06T07:40:21.132821",
     "status": "completed"
    },
    "tags": []
   },
   "outputs": [
    {
     "name": "stdout",
     "output_type": "stream",
     "text": [
      "Classification Report:\n",
      "              precision    recall  f1-score   support\n",
      "\n",
      "        Spam       0.98      0.72      0.83       138\n",
      "         Ham       0.96      1.00      0.98       896\n",
      "\n",
      "    accuracy                           0.96      1034\n",
      "   macro avg       0.97      0.86      0.90      1034\n",
      "weighted avg       0.96      0.96      0.96      1034\n",
      "\n"
     ]
    }
   ],
   "source": [
    "# Classification report\n",
    "classification_rep = classification_report(y_test, prediction_on_test_data,target_names=['Spam', 'Ham'])\n",
    "print(\"Classification Report:\")\n",
    "print(classification_rep)"
   ]
  },
  {
   "cell_type": "code",
   "execution_count": 23,
   "id": "d898c3d7",
   "metadata": {
    "execution": {
     "iopub.execute_input": "2023-09-06T07:40:21.204775Z",
     "iopub.status.busy": "2023-09-06T07:40:21.204080Z",
     "iopub.status.idle": "2023-09-06T07:40:21.212943Z",
     "shell.execute_reply": "2023-09-06T07:40:21.211748Z"
    },
    "papermill": {
     "duration": 0.030323,
     "end_time": "2023-09-06T07:40:21.215411",
     "exception": false,
     "start_time": "2023-09-06T07:40:21.185088",
     "status": "completed"
    },
    "tags": []
   },
   "outputs": [
    {
     "name": "stdout",
     "output_type": "stream",
     "text": [
      "Accuracy :  0.960348162475822\n",
      "Precision :  0.9581993569131833\n",
      "Recall :  0.9977678571428571\n",
      "Specificity :  0.717391304347826\n"
     ]
    }
   ],
   "source": [
    "# Metrics calculation\n",
    "TP = conf_matrix[1, 1]\n",
    "TN = conf_matrix[0, 0]\n",
    "FP = conf_matrix[0, 1]\n",
    "FN = conf_matrix[1, 0]\n",
    "\n",
    "accuracy = (TP + TN) / (TP + TN + FP + FN)\n",
    "precision = TP / (TP + FP)\n",
    "recall = TP / (TP + FN)\n",
    "specificity = TN / (TN + FP)\n",
    "\n",
    "print(\"Accuracy : \",accuracy)\n",
    "print(\"Precision : \",precision)\n",
    "print(\"Recall : \",recall)\n",
    "print(\"Specificity : \",specificity)"
   ]
  },
  {
   "cell_type": "markdown",
   "id": "538db271",
   "metadata": {
    "papermill": {
     "duration": 0.016598,
     "end_time": "2023-09-06T07:40:21.248757",
     "exception": false,
     "start_time": "2023-09-06T07:40:21.232159",
     "status": "completed"
    },
    "tags": []
   },
   "source": [
    "# **Make Predictions on New Input**\n"
   ]
  },
  {
   "cell_type": "code",
   "execution_count": 24,
   "id": "5e4f0466",
   "metadata": {
    "execution": {
     "iopub.execute_input": "2023-09-06T07:40:21.284882Z",
     "iopub.status.busy": "2023-09-06T07:40:21.284016Z",
     "iopub.status.idle": "2023-09-06T07:40:21.293765Z",
     "shell.execute_reply": "2023-09-06T07:40:21.292078Z"
    },
    "papermill": {
     "duration": 0.031074,
     "end_time": "2023-09-06T07:40:21.296457",
     "exception": false,
     "start_time": "2023-09-06T07:40:21.265383",
     "status": "completed"
    },
    "tags": []
   },
   "outputs": [
    {
     "name": "stdout",
     "output_type": "stream",
     "text": [
      "Ham Mail\n"
     ]
    }
   ],
   "source": [
    "#Spam i/p: Congratulations! You've won a luxury vacation package worth $10,000! Click here to claim your prize now!\n",
    "#Ham i/p: Dear John, I hope this email finds you well. Attached is the report you requested for our upcoming meeting. Please review it at your convenience\n",
    "input_your_mail =\"Dear John, I hope this email finds you well. Attached is the report you requested for our upcoming meeting. Please review it at your convenience\"\n",
    "input_data_features = feature_extraction.transform([input_your_mail])\n",
    "prediction = model.predict(input_data_features)\n",
    "if prediction[0] == 1:\n",
    "    print(\"Ham Mail\")\n",
    "else:\n",
    "    print(\"Spam Mail\")"
   ]
  },
  {
   "cell_type": "code",
   "execution_count": null,
   "id": "a4c319c6",
   "metadata": {},
   "outputs": [],
   "source": []
  }
 ],
 "metadata": {
  "kernelspec": {
   "display_name": "Python 3 (ipykernel)",
   "language": "python",
   "name": "python3"
  },
  "language_info": {
   "codemirror_mode": {
    "name": "ipython",
    "version": 3
   },
   "file_extension": ".py",
   "mimetype": "text/x-python",
   "name": "python",
   "nbconvert_exporter": "python",
   "pygments_lexer": "ipython3",
   "version": "3.11.4"
  },
  "papermill": {
   "default_parameters": {},
   "duration": 10.365146,
   "end_time": "2023-09-06T07:40:22.037819",
   "environment_variables": {},
   "exception": null,
   "input_path": "__notebook__.ipynb",
   "output_path": "__notebook__.ipynb",
   "parameters": {},
   "start_time": "2023-09-06T07:40:11.672673",
   "version": "2.4.0"
  }
 },
 "nbformat": 4,
 "nbformat_minor": 5
}
